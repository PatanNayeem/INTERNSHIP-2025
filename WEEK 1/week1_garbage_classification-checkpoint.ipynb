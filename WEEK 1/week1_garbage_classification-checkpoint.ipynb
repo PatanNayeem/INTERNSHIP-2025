{
 "cells": [
  {
   "cell_type": "markdown",
   "id": "baf754c8",
   "metadata": {},
   "source": [
    "# Week 1 - Garbage Classification\n",
    "### Edunet Foundation Internship Project\n",
    "Dataset Source: [Trash Type Image Dataset on Kaggle](https://www.kaggle.com/datasets/farzadnekouei/trash-type-image-dataset)"
   ]
  },
  {
   "cell_type": "code",
   "execution_count": null,
   "id": "729b8e22",
   "metadata": {},
   "outputs": [],
   "source": [
    "import os\n",
    "import matplotlib.pyplot as plt\n",
    "import matplotlib.image as mpimg\n",
    "import random\n",
    "\n",
    "# Set the dataset path\n",
    "dataset_path = 'TrashType_Image_Dataset'  # Change this to your local path if needed\n",
    "\n",
    "# List the classes (categories)\n",
    "categories = os.listdir(dataset_path)\n",
    "print(\"Garbage Categories:\", categories)\n",
    "\n",
    "# Count number of images per category\n",
    "print(\"\\nNumber of images per category:\")\n",
    "for category in categories:\n",
    "    category_path = os.path.join(dataset_path, category)\n",
    "    image_count = len(os.listdir(category_path))\n",
    "    print(f\"{category}: {image_count} images\")\n",
    "\n",
    "# Display sample images from each category\n",
    "def show_samples():\n",
    "    plt.figure(figsize=(15, 10))\n",
    "    for idx, category in enumerate(categories):\n",
    "        image_files = os.listdir(os.path.join(dataset_path, category))\n",
    "        sample_img = random.choice(image_files)\n",
    "        img_path = os.path.join(dataset_path, category, sample_img)\n",
    "        img = mpimg.imread(img_path)\n",
    "        plt.subplot(2, 3, idx+1)\n",
    "        plt.imshow(img)\n",
    "        plt.title(category)\n",
    "        plt.axis('off')\n",
    "    plt.suptitle(\"Sample Images from Each Category\", fontsize=18)\n",
    "    plt.tight_layout()\n",
    "    plt.show()\n",
    "\n",
    "show_samples()"
   ]
  }
 ],
 "metadata": {},
 "nbformat": 4,
 "nbformat_minor": 5
}
