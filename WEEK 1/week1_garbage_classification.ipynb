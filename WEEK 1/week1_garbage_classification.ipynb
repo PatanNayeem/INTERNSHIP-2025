{
 "cells": [
  {
   "cell_type": "markdown",
   "id": "baf754c8",
   "metadata": {},
   "source": [
    "# Week 1 - Garbage Classification\n",
    "### Edunet Foundation Internship Project\n",
    "Dataset Source: [Trash Type Image Dataset on Kaggle](https://www.kaggle.com/datasets/farzadnekouei/trash-type-image-dataset)"
   ]
  },
  {
   "cell_type": "code",
   "execution_count": 2,
   "id": "729b8e22",
   "metadata": {},
   "outputs": [
    {
     "ename": "FileNotFoundError",
     "evalue": "[WinError 3] The system cannot find the path specified: 'TrashType_Image_Dataset'",
     "output_type": "error",
     "traceback": [
      "\u001b[1;31m---------------------------------------------------------------------------\u001b[0m",
      "\u001b[1;31mFileNotFoundError\u001b[0m                         Traceback (most recent call last)",
      "Cell \u001b[1;32mIn[2], line 10\u001b[0m\n\u001b[0;32m      7\u001b[0m dataset_path \u001b[38;5;241m=\u001b[39m \u001b[38;5;124m'\u001b[39m\u001b[38;5;124mTrashType_Image_Dataset\u001b[39m\u001b[38;5;124m'\u001b[39m  \u001b[38;5;66;03m# Change this to your local path if needed\u001b[39;00m\n\u001b[0;32m      9\u001b[0m \u001b[38;5;66;03m# List the classes (categories)\u001b[39;00m\n\u001b[1;32m---> 10\u001b[0m categories \u001b[38;5;241m=\u001b[39m os\u001b[38;5;241m.\u001b[39mlistdir(dataset_path)\n\u001b[0;32m     11\u001b[0m \u001b[38;5;28mprint\u001b[39m(\u001b[38;5;124m\"\u001b[39m\u001b[38;5;124mGarbage Categories:\u001b[39m\u001b[38;5;124m\"\u001b[39m, categories)\n\u001b[0;32m     13\u001b[0m \u001b[38;5;66;03m# Count number of images per category\u001b[39;00m\n",
      "\u001b[1;31mFileNotFoundError\u001b[0m: [WinError 3] The system cannot find the path specified: 'TrashType_Image_Dataset'"
     ]
    }
   ],
   "source": [
    "import os\n",
    "import matplotlib.pyplot as plt\n",
    "import matplotlib.image as mpimg\n",
    "import random\n",
    "\n",
    "# Set the dataset path\n",
    "dataset_path = 'TrashType_Image_Dataset'  # Change this to your local path if needed\n",
    "\n",
    "# List the classes (categories)\n",
    "categories = os.listdir(dataset_path)\n",
    "print(\"Garbage Categories:\", categories)\n",
    "\n",
    "# Count number of images per category\n",
    "print(\"\\nNumber of images per category:\")\n",
    "for category in categories:\n",
    "    category_path = os.path.join(dataset_path, category)\n",
    "    image_count = len(os.listdir(category_path))\n",
    "    print(f\"{category}: {image_count} images\")\n",
    "\n",
    "# Display sample images from each category\n",
    "def show_samples():\n",
    "    plt.figure(figsize=(15, 10))\n",
    "    for idx, category in enumerate(categories):\n",
    "        image_files = os.listdir(os.path.join(dataset_path, category))\n",
    "        sample_img = random.choice(image_files)\n",
    "        img_path = os.path.join(dataset_path, category, sample_img)\n",
    "        img = mpimg.imread(img_path)\n",
    "        plt.subplot(2, 3, idx+1)\n",
    "        plt.imshow(img)\n",
    "        plt.title(category)\n",
    "        plt.axis('off')\n",
    "    plt.suptitle(\"Sample Images from Each Category\", fontsize=18)\n",
    "    plt.tight_layout()\n",
    "    plt.show()\n",
    "\n",
    "show_samples()"
   ]
  },
  {
   "cell_type": "code",
   "execution_count": null,
   "id": "bdcadcff-98fd-45d9-9ff5-35cf81a78d03",
   "metadata": {},
   "outputs": [],
   "source": []
  }
 ],
 "metadata": {
  "kernelspec": {
   "display_name": "Python 3 (ipykernel)",
   "language": "python",
   "name": "python3"
  },
  "language_info": {
   "codemirror_mode": {
    "name": "ipython",
    "version": 3
   },
   "file_extension": ".py",
   "mimetype": "text/x-python",
   "name": "python",
   "nbconvert_exporter": "python",
   "pygments_lexer": "ipython3",
   "version": "3.12.4"
  }
 },
 "nbformat": 4,
 "nbformat_minor": 5
}
